{
 "cells": [
  {
   "cell_type": "markdown",
   "id": "a46634d6",
   "metadata": {},
   "source": [
    "# Hybrid Approach for Cold-Start Problem in E-Commerce Recommendation System Using Regression"
   ]
  },
  {
   "cell_type": "markdown",
   "id": "c8eacf1b",
   "metadata": {},
   "source": [
    "### Summary Project\n",
    "In this project, we address the cold-start problem commonly encountered in e-commerce recommendation systems. The challenge arises when users have not provided ratings for products they have purchased, resulting in missing data that limits the effectiveness of collaborative filtering algorithms. To overcome this, we use a regression-based approach with XGBRegressor to predict missing ratings. Key features such as delivery time, freight value, and normalized price are utilized to model user preferences and predict ratings for transactions where no user feedback is available.\n",
    "\n",
    "Once the missing ratings are filled, we can generate a complete dataset with no null values. This dataset serves as input for a collaborative filtering approach using Singular Value Decomposition (SVD) matrix factorization. By applying this method, the model predicts the top 10 highest-rated items for each user, offering personalized product recommendations. This hybrid approach ensures the recommendation system is robust even in scenarios with limited user interactions, providing a solution that leverages both content-based and collaborative filtering techniques to improve recommendation accuracy."
   ]
  },
  {
   "cell_type": "markdown",
   "id": "42c4a867",
   "metadata": {},
   "source": [
    "### About Dataset\n",
    "The dataset has information of 100k orders from 2016 to 2018 made at multiple marketplaces in Brazil. Its features allows viewing an order from multiple dimensions: from order status, price, payment and freight performance to customer location, product attributes and finally reviews written by customers. We also released a geolocation dataset that relates Brazilian zip codes to lat/lng coordinates\n",
    "\n",
    "url dataset = https://www.kaggle.com/datasets/olistbr/brazilian-ecommerce"
   ]
  },
  {
   "cell_type": "markdown",
   "id": "930bbf47",
   "metadata": {},
   "source": [
    "# 1. Import Library & Dataset"
   ]
  },
  {
   "cell_type": "code",
   "execution_count": 1,
   "id": "8665cda5",
   "metadata": {},
   "outputs": [],
   "source": [
    "import time\n",
    "import numpy as np\n",
    "import pandas as pd\n",
    "import matplotlib.pyplot as plt\n",
    "import seaborn as sns\n",
    "import math\n",
    "from xgboost import XGBRegressor\n",
    "import sklearn\n",
    "from sklearn.preprocessing import StandardScaler\n",
    "from sklearn.model_selection import train_test_split, GridSearchCV as regCV\n",
    "from sklearn.metrics import mean_squared_error\n",
    "from sklearn.ensemble import RandomForestRegressor\n",
    "import time\n",
    "from xgboost import XGBRegressor\n",
    "import surprise\n",
    "from surprise import SVD, Dataset, Reader\n",
    "from surprise.model_selection import GridSearchCV as svdCV\n",
    "from recommenders.utils.timer import Timer\n",
    "from recommenders.datasets.python_splitters import python_random_split\n",
    "from recommenders.evaluation.python_evaluation import (rmse, mae, rsquared, exp_var, map_at_k, ndcg_at_k, precision_at_k,\n",
    "                                                     recall_at_k, get_top_k_items)\n",
    "from recommenders.models.surprise.surprise_utils import predict, compute_ranking_predictions"
   ]
  },
  {
   "cell_type": "markdown",
   "id": "b6f62cc3",
   "metadata": {},
   "source": [
    "## 2. Regression Model "
   ]
  },
  {
   "cell_type": "markdown",
   "id": "0b4c8c67",
   "metadata": {},
   "source": [
    "## 2.1 Data Preparation"
   ]
  },
  {
   "cell_type": "code",
   "execution_count": 3,
   "id": "6c735933",
   "metadata": {
    "scrolled": true
   },
   "outputs": [],
   "source": [
    "# Import the required datasets one by one\n",
    "data1=pd.read_csv('dataset/olist_order_items_dataset.csv')\n",
    "data2=pd.read_csv('dataset/olist_order_payments_dataset.csv')\n",
    "data3=pd.read_csv('dataset/olist_order_reviews_dataset.csv')\n",
    "data4=pd.read_csv('dataset/olist_orders_dataset.csv')\n",
    "data5=pd.read_csv('dataset/olist_products_dataset.csv')\n",
    "pd.set_option('display.max_columns', None)"
   ]
  },
  {
   "cell_type": "code",
   "execution_count": 4,
   "id": "bb151e0c",
   "metadata": {
    "scrolled": true
   },
   "outputs": [
    {
     "name": "stdout",
     "output_type": "stream",
     "text": [
      "data1 = Index(['order_id', 'order_item_id', 'product_id', 'seller_id',\n",
      "       'shipping_limit_date', 'price', 'freight_value'],\n",
      "      dtype='object')\n",
      "\n",
      "data2 = Index(['order_id', 'payment_sequential', 'payment_type',\n",
      "       'payment_installments', 'payment_value'],\n",
      "      dtype='object')\n",
      "\n",
      "data3 = Index(['review_id', 'order_id', 'review_score', 'review_comment_title',\n",
      "       'review_comment_message', 'review_creation_date',\n",
      "       'review_answer_timestamp'],\n",
      "      dtype='object')\n",
      "\n",
      "data4 = Index(['review_id', 'order_id', 'review_score', 'review_comment_title',\n",
      "       'review_comment_message', 'review_creation_date',\n",
      "       'review_answer_timestamp'],\n",
      "      dtype='object')\n",
      "\n",
      "data5 = Index(['order_id', 'customer_id', 'order_status', 'order_purchase_timestamp',\n",
      "       'order_approved_at', 'order_delivered_carrier_date',\n",
      "       'order_delivered_customer_date', 'order_estimated_delivery_date'],\n",
      "      dtype='object')\n"
     ]
    }
   ],
   "source": [
    "# Show column each dataset \n",
    "print(f'data1 = {data1.columns}\\n')\n",
    "print(f'data2 = {data2.columns}\\n')\n",
    "print(f'data3 = {data3.columns}\\n')\n",
    "print(f'data4 = {data3.columns}\\n')\n",
    "print(f'data5 = {data4.columns}')"
   ]
  },
  {
   "cell_type": "code",
   "execution_count": 5,
   "id": "9dcbc78f",
   "metadata": {},
   "outputs": [],
   "source": [
    "# Join multiple tables with foreign key column 'oder_id'\n",
    "df=pd.merge(data1,data4,on='order_id',how='outer')\n",
    "df=pd.merge(df,data2,on='order_id', how='outer')\n",
    "df=pd.merge(df,data3.iloc[:,[1,2]],on='order_id',how='outer')\n",
    "df=pd.merge(df,data5.iloc[:,[0,1]],on='product_id',how='outer')"
   ]
  },
  {
   "cell_type": "markdown",
   "id": "5ff84374",
   "metadata": {},
   "source": [
    "## 2.2 Data Cleaning"
   ]
  },
  {
   "cell_type": "code",
   "execution_count": 6,
   "id": "1537ab6c",
   "metadata": {},
   "outputs": [],
   "source": [
    "# Filter completed orders\n",
    "df=df[(df.order_purchase_timestamp.notnull())&(df.order_delivered_customer_date.notnull())].reset_index(drop=True)\n",
    "\n",
    "# Fill missing product categories\n",
    "df['product_category_name'] = df['product_category_name'].fillna('other')\n",
    "\n",
    "# Make sure date column in datetime format\n",
    "df['order_purchase_timestamp'] = pd.to_datetime(df['order_purchase_timestamp'])\n",
    "df['order_delivered_customer_date'] = pd.to_datetime(df['order_delivered_customer_date'])"
   ]
  },
  {
   "cell_type": "markdown",
   "id": "1bbd38e5",
   "metadata": {},
   "source": [
    "## 2.3 Feature Engineering"
   ]
  },
  {
   "cell_type": "code",
   "execution_count": 7,
   "id": "57b76c86",
   "metadata": {},
   "outputs": [],
   "source": [
    "# Create delivery time time with calcualte difference time purchased and time delivered \n",
    "df['delivery_time'] = df['order_delivered_customer_date'] - df['order_purchase_timestamp']\n",
    "df['delivery_time'] = df['delivery_time'].dt.total_seconds() / 86400\n",
    "\n",
    "# Calculate mean price per category  \n",
    "df['price_mean'] = df.groupby('product_category_name')['price'].transform('mean')\n",
    "\n",
    "# Normalize price column\n",
    "df['price_normal'] = df['price'] / df['price_mean']\n",
    "\n",
    "# Take column used for predict missing rating\n",
    "df_features = df[['delivery_time','freight_value','price_normal','review_score']]"
   ]
  },
  {
   "cell_type": "markdown",
   "id": "018f21cf",
   "metadata": {},
   "source": [
    "## 2.4 Feature Splitting"
   ]
  },
  {
   "cell_type": "code",
   "execution_count": 8,
   "id": "6a5cd356",
   "metadata": {},
   "outputs": [],
   "source": [
    "# Split data with rating clean and rating null\n",
    "df_null = df_features[df_features.review_score.isnull()]\n",
    "df_clean = df_features[df_features.review_score.notnull()]\n",
    "\n",
    "# Split \n",
    "X = df_clean.iloc[:,:-1]\n",
    "y = df_clean.iloc[:,-1:]\n",
    "\n",
    "X_train, X_test, y_train, y_test = train_test_split(X, y, test_size=0.2, random_state=42)"
   ]
  },
  {
   "cell_type": "markdown",
   "id": "562ce5a1",
   "metadata": {},
   "source": [
    "## 2.5 Feature Scaling"
   ]
  },
  {
   "cell_type": "code",
   "execution_count": 9,
   "id": "b7aa75fd",
   "metadata": {},
   "outputs": [],
   "source": [
    "# Buat objek StandardScaler\n",
    "scaler = StandardScaler()\n",
    "features = X_train.columns\n",
    "\n",
    "# Fit scaler pada X_train\n",
    "scaler.fit(X_train)\n",
    "\n",
    "# Transformasi variabel tersebut dengan scaler yang telah di fit\n",
    "X_train = scaler.transform(X_train)\n",
    "X_test = scaler.transform(X_test)"
   ]
  },
  {
   "cell_type": "markdown",
   "id": "65a8b6be",
   "metadata": {},
   "source": [
    "## 2.6 Model Training"
   ]
  },
  {
   "cell_type": "code",
   "execution_count": null,
   "id": "61c58808",
   "metadata": {
    "scrolled": true
   },
   "outputs": [],
   "source": [
    "# Initialize the XGBRegressor model\n",
    "model = XGBRegressor(objective='reg:squarederror', random_state=42, eval_metric='rmse')\n",
    "\n",
    "# Define the parameter grid for tuning\n",
    "param_grid = {\n",
    "    'n_estimators': [100, 300, 500, 700, 1000],    # Rentang nilai untuk n_estimators\n",
    "    'max_depth': [3, 5, 7, 9, 10],                  # Rentang nilai untuk max_depth\n",
    "    'eta': [0.01, 0.05, 0.1, 0.2, 0.3],            # Rentang nilai untuk eta (learning rate)\n",
    "}\n",
    "\n",
    "# Setup GridSearchCV with verbosity to track progress\n",
    "grid_search = regCV(estimator=model, param_grid=param_grid, cv=3, n_jobs=-1, verbose=3, \n",
    "                    scoring='neg_root_mean_squared_error')\n",
    "\n",
    "# Fit the model with grid search\n",
    "grid_search.fit(X_train, y_train, verbose=True)"
   ]
  },
  {
   "cell_type": "markdown",
   "id": "8b1828dc",
   "metadata": {},
   "source": [
    "## 2.7 Model Evaluation"
   ]
  },
  {
   "cell_type": "code",
   "execution_count": 100,
   "id": "5d9b3ec9",
   "metadata": {},
   "outputs": [
    {
     "name": "stdout",
     "output_type": "stream",
     "text": [
      "Best RMSE: 1.1972305667630123\n",
      "Best Parameters: {'eta': 0.05, 'max_depth': 10, 'n_estimators': 500}\n"
     ]
    }
   ],
   "source": [
    "# Retrieve the best result from the grid search\n",
    "best_params = grid_search.best_params_\n",
    "best_model = grid_search.best_estimator_\n",
    "\n",
    "# Evaluate the performance of the best model\n",
    "y_pred = best_model.predict(X_test)\n",
    "val_rmse = np.sqrt(mean_squared_error(y_test, y_pred))\n",
    "print(f\"Best RMSE: {val_rmse}\")\n",
    "print(f\"Best Parameters: {best_params}\")"
   ]
  },
  {
   "cell_type": "code",
   "execution_count": 101,
   "id": "70bd7a7d",
   "metadata": {},
   "outputs": [
    {
     "data": {
      "text/html": [
       "<div>\n",
       "<style scoped>\n",
       "    .dataframe tbody tr th:only-of-type {\n",
       "        vertical-align: middle;\n",
       "    }\n",
       "\n",
       "    .dataframe tbody tr th {\n",
       "        vertical-align: top;\n",
       "    }\n",
       "\n",
       "    .dataframe thead th {\n",
       "        text-align: right;\n",
       "    }\n",
       "</style>\n",
       "<table border=\"1\" class=\"dataframe\">\n",
       "  <thead>\n",
       "    <tr style=\"text-align: right;\">\n",
       "      <th></th>\n",
       "      <th>Actual</th>\n",
       "      <th>Predicted</th>\n",
       "    </tr>\n",
       "  </thead>\n",
       "  <tbody>\n",
       "    <tr>\n",
       "      <th>0</th>\n",
       "      <td>5.0</td>\n",
       "      <td>4.488035</td>\n",
       "    </tr>\n",
       "    <tr>\n",
       "      <th>1</th>\n",
       "      <td>3.0</td>\n",
       "      <td>4.110348</td>\n",
       "    </tr>\n",
       "    <tr>\n",
       "      <th>2</th>\n",
       "      <td>4.0</td>\n",
       "      <td>4.247641</td>\n",
       "    </tr>\n",
       "    <tr>\n",
       "      <th>3</th>\n",
       "      <td>5.0</td>\n",
       "      <td>4.572317</td>\n",
       "    </tr>\n",
       "    <tr>\n",
       "      <th>4</th>\n",
       "      <td>5.0</td>\n",
       "      <td>4.287142</td>\n",
       "    </tr>\n",
       "    <tr>\n",
       "      <th>...</th>\n",
       "      <td>...</td>\n",
       "      <td>...</td>\n",
       "    </tr>\n",
       "    <tr>\n",
       "      <th>22968</th>\n",
       "      <td>4.0</td>\n",
       "      <td>4.514670</td>\n",
       "    </tr>\n",
       "    <tr>\n",
       "      <th>22969</th>\n",
       "      <td>5.0</td>\n",
       "      <td>3.959340</td>\n",
       "    </tr>\n",
       "    <tr>\n",
       "      <th>22970</th>\n",
       "      <td>5.0</td>\n",
       "      <td>4.307520</td>\n",
       "    </tr>\n",
       "    <tr>\n",
       "      <th>22971</th>\n",
       "      <td>5.0</td>\n",
       "      <td>4.046359</td>\n",
       "    </tr>\n",
       "    <tr>\n",
       "      <th>22972</th>\n",
       "      <td>5.0</td>\n",
       "      <td>4.325846</td>\n",
       "    </tr>\n",
       "  </tbody>\n",
       "</table>\n",
       "<p>22973 rows × 2 columns</p>\n",
       "</div>"
      ],
      "text/plain": [
       "       Actual  Predicted\n",
       "0         5.0   4.488035\n",
       "1         3.0   4.110348\n",
       "2         4.0   4.247641\n",
       "3         5.0   4.572317\n",
       "4         5.0   4.287142\n",
       "...       ...        ...\n",
       "22968     4.0   4.514670\n",
       "22969     5.0   3.959340\n",
       "22970     5.0   4.307520\n",
       "22971     5.0   4.046359\n",
       "22972     5.0   4.325846\n",
       "\n",
       "[22973 rows x 2 columns]"
      ]
     },
     "execution_count": 101,
     "metadata": {},
     "output_type": "execute_result"
    }
   ],
   "source": [
    "# Compare the prediction results with the actual values\n",
    "results = pd.DataFrame({'Actual': y_test.values.flatten(), 'Predicted': y_pred})\n",
    "results"
   ]
  },
  {
   "cell_type": "markdown",
   "id": "0ea4cfee",
   "metadata": {},
   "source": [
    "## 2.8 Model Application"
   ]
  },
  {
   "cell_type": "code",
   "execution_count": 77,
   "id": "ee4523b6",
   "metadata": {},
   "outputs": [],
   "source": [
    "# Retrieve the rating data that is null for prediction\n",
    "X_predict = df_null[features]\n",
    "X_predict_scaled = scaler.transform(X_predict)\n",
    "\n",
    "# Predict the missing ratings\n",
    "rating_predict = best_model.predict(X_predict_scaled)\n",
    "X_predict['review_score'] = pd.Series(rating_predict, index=X_predict.index)\n",
    "\n",
    "# Combine the original data with the predicted data\n",
    "df_features_new = pd.concat([df_clean,X_predict]).sort_index()\n",
    "df['rating'] = df_features_new['review_score']"
   ]
  },
  {
   "cell_type": "markdown",
   "id": "e545c94f",
   "metadata": {},
   "source": [
    "To address the cold-start problem in our recommendation system, we first handled the missing ratings in the transaction data. Using the XGBRegressor model, we predicted the missing ratings based on features such as delivery time, freight value, and normalized price. This step allowed us to fill in the gaps in our dataset, enabling a more complete and robust dataset before proceeding to the collaborative filtering stage for generating personalized recommendations."
   ]
  },
  {
   "cell_type": "markdown",
   "id": "e5dabcb8",
   "metadata": {},
   "source": [
    "# 3. Recommendation Engine"
   ]
  },
  {
   "cell_type": "markdown",
   "id": "a9597954",
   "metadata": {},
   "source": [
    "## 3.1 Exploratory Data Analysis"
   ]
  },
  {
   "cell_type": "code",
   "execution_count": 82,
   "id": "3cc17579",
   "metadata": {},
   "outputs": [],
   "source": [
    "# Prepare the data\n",
    "data = df.copy()\n",
    "data.rename({'customer_id':'userID','product_id':'itemID'},axis=1,inplace=True)\n",
    "data = data[['userID', 'itemID', 'rating']]"
   ]
  },
  {
   "cell_type": "code",
   "execution_count": 88,
   "id": "6e934db2",
   "metadata": {
    "scrolled": true
   },
   "outputs": [
    {
     "data": {
      "text/plain": [
       "<AxesSubplot:>"
      ]
     },
     "execution_count": 88,
     "metadata": {},
     "output_type": "execute_result"
    },
    {
     "data": {
      "image/png": "[encoded data removed]",
      "text/plain": [
       "<Figure size 432x288 with 1 Axes>"
      ]
     },
     "metadata": {
      "needs_background": "light"
     },
     "output_type": "display_data"
    }
   ],
   "source": [
    "# Show rating distribution\n",
    "data.rating.hist(bins=10)"
   ]
  },
  {
   "cell_type": "code",
   "execution_count": 97,
   "id": "9f150a88",
   "metadata": {},
   "outputs": [
    {
     "data": {
      "text/html": [
       "<div>\n",
       "<style scoped>\n",
       "    .dataframe tbody tr th:only-of-type {\n",
       "        vertical-align: middle;\n",
       "    }\n",
       "\n",
       "    .dataframe tbody tr th {\n",
       "        vertical-align: top;\n",
       "    }\n",
       "\n",
       "    .dataframe thead th {\n",
       "        text-align: right;\n",
       "    }\n",
       "</style>\n",
       "<table border=\"1\" class=\"dataframe\">\n",
       "  <thead>\n",
       "    <tr style=\"text-align: right;\">\n",
       "      <th></th>\n",
       "      <th>rating</th>\n",
       "    </tr>\n",
       "  </thead>\n",
       "  <tbody>\n",
       "    <tr>\n",
       "      <th>count</th>\n",
       "      <td>115722.000000</td>\n",
       "    </tr>\n",
       "    <tr>\n",
       "      <th>mean</th>\n",
       "      <td>4.078083</td>\n",
       "    </tr>\n",
       "    <tr>\n",
       "      <th>std</th>\n",
       "      <td>1.345239</td>\n",
       "    </tr>\n",
       "    <tr>\n",
       "      <th>min</th>\n",
       "      <td>0.416365</td>\n",
       "    </tr>\n",
       "    <tr>\n",
       "      <th>25%</th>\n",
       "      <td>4.000000</td>\n",
       "    </tr>\n",
       "    <tr>\n",
       "      <th>50%</th>\n",
       "      <td>5.000000</td>\n",
       "    </tr>\n",
       "    <tr>\n",
       "      <th>75%</th>\n",
       "      <td>5.000000</td>\n",
       "    </tr>\n",
       "    <tr>\n",
       "      <th>max</th>\n",
       "      <td>5.000000</td>\n",
       "    </tr>\n",
       "  </tbody>\n",
       "</table>\n",
       "</div>"
      ],
      "text/plain": [
       "              rating\n",
       "count  115722.000000\n",
       "mean        4.078083\n",
       "std         1.345239\n",
       "min         0.416365\n",
       "25%         4.000000\n",
       "50%         5.000000\n",
       "75%         5.000000\n",
       "max         5.000000"
      ]
     },
     "execution_count": 97,
     "metadata": {},
     "output_type": "execute_result"
    }
   ],
   "source": [
    "# Show summary each columns \n",
    "data.describe()"
   ]
  },
  {
   "cell_type": "code",
   "execution_count": 96,
   "id": "046a7199",
   "metadata": {},
   "outputs": [
    {
     "name": "stdout",
     "output_type": "stream",
     "text": [
      "userID : 96476\n",
      "itemID : 32214\n",
      "rating : 681\n"
     ]
    }
   ],
   "source": [
    "# Show distinct unique value each column\n",
    "for column in data.columns:\n",
    "    unique_values = data[column].nunique()\n",
    "    print(f'{column} : {unique_values}')"
   ]
  },
  {
   "cell_type": "markdown",
   "id": "49074a9d",
   "metadata": {},
   "source": [
    "## 3.2 Data Preparation"
   ]
  },
  {
   "cell_type": "code",
   "execution_count": 13,
   "id": "b39d9fb5",
   "metadata": {},
   "outputs": [],
   "source": [
    "# Split the dataset into train and test sets\n",
    "train, test = python_random_split(data,0.8,seed=42)\n",
    "# Adjust rating scale if necessary\n",
    "reader = Reader(rating_scale=(train.rating.min(), train.rating.max()))  \n",
    "# Convert dataset to trainset\n",
    "train_dataset = surprise.Dataset.load_from_df(train, reader=reader)\n",
    "train_set = train_dataset.build_full_trainset()"
   ]
  },
  {
   "cell_type": "markdown",
   "id": "89c0499c",
   "metadata": {},
   "source": [
    "## 3.3 Model Tuning"
   ]
  },
  {
   "cell_type": "code",
   "execution_count": 24,
   "id": "f2b6a0f9",
   "metadata": {
    "scrolled": true
   },
   "outputs": [
    {
     "name": "stderr",
     "output_type": "stream",
     "text": [
      "[Parallel(n_jobs=-1)]: Using backend LokyBackend with 4 concurrent workers.\n",
      "[Parallel(n_jobs=-1)]: Done  24 tasks      | elapsed:   43.8s\n",
      "[Parallel(n_jobs=-1)]: Done 120 tasks      | elapsed:  3.0min\n",
      "[Parallel(n_jobs=-1)]: Done 280 tasks      | elapsed:  9.8min\n",
      "[Parallel(n_jobs=-1)]: Done 504 tasks      | elapsed: 22.8min\n"
     ]
    },
    {
     "name": "stdout",
     "output_type": "stream",
     "text": [
      "Best RMSE score: 1.1499265963241014\n",
      "Best parameters: {'n_factors': 100, 'n_epochs': 40, 'lr_all': 0.1, 'reg_all': 0.2}\n"
     ]
    },
    {
     "name": "stderr",
     "output_type": "stream",
     "text": [
      "[Parallel(n_jobs=-1)]: Done 625 out of 625 | elapsed: 32.9min finished\n"
     ]
    }
   ],
   "source": [
    "# Define the parameter grid\n",
    "param_grid = {\n",
    "    'n_factors': [100, 200, 300, 400, 500],        # Number of latent factors\n",
    "    'n_epochs': [40],                              # Number of training epochs\n",
    "    'lr_all': [0.002, 0.005, 0.01, 0.05, 0.1],     # Learning rate for all parameters\n",
    "    'reg_all': [0.01, 0.025, 0.05, 0.1, 0.2]       # Regularization term for all parameters\n",
    "}\n",
    "\n",
    "\n",
    "gs_svd = svdCV(SVD, param_grid, measures=['rmse'], cv=5, n_jobs=-1, joblib_verbose=3)\n",
    "gs_svd.fit(train_dataset)  # Use the converted data for GridSearchCV\n",
    "\n",
    "# Extract best RMSE score\n",
    "best_rmse = gs_svd.best_score['rmse']\n",
    "best_params = gs_svd.best_params['rmse']\n",
    "\n",
    "print(f\"Best RMSE score: {best_rmse}\")\n",
    "print(f\"Best parameters: {best_params}\")"
   ]
  },
  {
   "cell_type": "markdown",
   "id": "2ee77424",
   "metadata": {},
   "source": [
    "## 3.4 Model Training"
   ]
  },
  {
   "cell_type": "code",
   "execution_count": 39,
   "id": "71a66659",
   "metadata": {
    "scrolled": true
   },
   "outputs": [
    {
     "data": {
      "text/html": [
       "<div>\n",
       "<style scoped>\n",
       "    .dataframe tbody tr th:only-of-type {\n",
       "        vertical-align: middle;\n",
       "    }\n",
       "\n",
       "    .dataframe tbody tr th {\n",
       "        vertical-align: top;\n",
       "    }\n",
       "\n",
       "    .dataframe thead th {\n",
       "        text-align: right;\n",
       "    }\n",
       "</style>\n",
       "<table border=\"1\" class=\"dataframe\">\n",
       "  <thead>\n",
       "    <tr style=\"text-align: right;\">\n",
       "      <th></th>\n",
       "      <th>userID</th>\n",
       "      <th>itemID</th>\n",
       "      <th>prediction</th>\n",
       "    </tr>\n",
       "  </thead>\n",
       "  <tbody>\n",
       "    <tr>\n",
       "      <th>0</th>\n",
       "      <td>9341fecaab3e912d71cf05c31ead299f</td>\n",
       "      <td>c82cf18016c429035d415a45a1546652</td>\n",
       "      <td>4.053377</td>\n",
       "    </tr>\n",
       "    <tr>\n",
       "      <th>1</th>\n",
       "      <td>615063e4a4d4fc2ef9cda7c7358e2d4e</td>\n",
       "      <td>8b199a0f183f8011403f53356c564d80</td>\n",
       "      <td>3.729317</td>\n",
       "    </tr>\n",
       "    <tr>\n",
       "      <th>2</th>\n",
       "      <td>c2a2fca81f9fa31bede9b92c5606bc7b</td>\n",
       "      <td>c0603988d17e4588dfce0f7f01978557</td>\n",
       "      <td>4.102088</td>\n",
       "    </tr>\n",
       "    <tr>\n",
       "      <th>3</th>\n",
       "      <td>8a31acd6bdd796b96b5cde8325da7c41</td>\n",
       "      <td>34dabb8af33b3756cf72df05fb327011</td>\n",
       "      <td>4.098395</td>\n",
       "    </tr>\n",
       "    <tr>\n",
       "      <th>4</th>\n",
       "      <td>574784507f8c418dc386a0961453a3c0</td>\n",
       "      <td>e0bb3159111d86828b5caef8725ff055</td>\n",
       "      <td>3.720514</td>\n",
       "    </tr>\n",
       "    <tr>\n",
       "      <th>...</th>\n",
       "      <td>...</td>\n",
       "      <td>...</td>\n",
       "      <td>...</td>\n",
       "    </tr>\n",
       "    <tr>\n",
       "      <th>23140</th>\n",
       "      <td>ce57da1d592e7f5a8606eca47d71664a</td>\n",
       "      <td>80f258d43a984e2e7af7f1e1163e4018</td>\n",
       "      <td>4.915475</td>\n",
       "    </tr>\n",
       "    <tr>\n",
       "      <th>23141</th>\n",
       "      <td>266413b8d0b525d23ebc87014a58603f</td>\n",
       "      <td>b3c60191c4d756abdf423e5b21eb91dc</td>\n",
       "      <td>4.080779</td>\n",
       "    </tr>\n",
       "    <tr>\n",
       "      <th>23142</th>\n",
       "      <td>4c44865a36098a8b24dba15c90f01511</td>\n",
       "      <td>76bb142328fba1ac3a1e2ba033171d94</td>\n",
       "      <td>4.080779</td>\n",
       "    </tr>\n",
       "    <tr>\n",
       "      <th>23143</th>\n",
       "      <td>a05f4c66baf8e2a458de2a45255bc3c1</td>\n",
       "      <td>7c77aa8ae608782aac8e7728acff92fb</td>\n",
       "      <td>3.598741</td>\n",
       "    </tr>\n",
       "    <tr>\n",
       "      <th>23144</th>\n",
       "      <td>8a250edc40ebc5c3940ebc940f16a7eb</td>\n",
       "      <td>3f27ac8e699df3d300ec4a5d8c5cf0b2</td>\n",
       "      <td>4.080779</td>\n",
       "    </tr>\n",
       "  </tbody>\n",
       "</table>\n",
       "<p>23145 rows × 3 columns</p>\n",
       "</div>"
      ],
      "text/plain": [
       "                                 userID                            itemID  \\\n",
       "0      9341fecaab3e912d71cf05c31ead299f  c82cf18016c429035d415a45a1546652   \n",
       "1      615063e4a4d4fc2ef9cda7c7358e2d4e  8b199a0f183f8011403f53356c564d80   \n",
       "2      c2a2fca81f9fa31bede9b92c5606bc7b  c0603988d17e4588dfce0f7f01978557   \n",
       "3      8a31acd6bdd796b96b5cde8325da7c41  34dabb8af33b3756cf72df05fb327011   \n",
       "4      574784507f8c418dc386a0961453a3c0  e0bb3159111d86828b5caef8725ff055   \n",
       "...                                 ...                               ...   \n",
       "23140  ce57da1d592e7f5a8606eca47d71664a  80f258d43a984e2e7af7f1e1163e4018   \n",
       "23141  266413b8d0b525d23ebc87014a58603f  b3c60191c4d756abdf423e5b21eb91dc   \n",
       "23142  4c44865a36098a8b24dba15c90f01511  76bb142328fba1ac3a1e2ba033171d94   \n",
       "23143  a05f4c66baf8e2a458de2a45255bc3c1  7c77aa8ae608782aac8e7728acff92fb   \n",
       "23144  8a250edc40ebc5c3940ebc940f16a7eb  3f27ac8e699df3d300ec4a5d8c5cf0b2   \n",
       "\n",
       "       prediction  \n",
       "0        4.053377  \n",
       "1        3.729317  \n",
       "2        4.102088  \n",
       "3        4.098395  \n",
       "4        3.720514  \n",
       "...           ...  \n",
       "23140    4.915475  \n",
       "23141    4.080779  \n",
       "23142    4.080779  \n",
       "23143    3.598741  \n",
       "23144    4.080779  \n",
       "\n",
       "[23145 rows x 3 columns]"
      ]
     },
     "execution_count": 39,
     "metadata": {},
     "output_type": "execute_result"
    }
   ],
   "source": [
    "# Train SVD with best parameters\n",
    "svd = SVD(**best_params)\n",
    "svd.fit(train_set)\n",
    "\n",
    "# Show y prediction\n",
    "predictions = predict(svd, test, usercol='userID', itemcol='itemID')\n",
    "predictions"
   ]
  },
  {
   "cell_type": "markdown",
   "id": "308b185d",
   "metadata": {},
   "source": [
    "## 3.5 Model Evaluation"
   ]
  },
  {
   "cell_type": "code",
   "execution_count": 38,
   "id": "1575976c",
   "metadata": {},
   "outputs": [
    {
     "name": "stdout",
     "output_type": "stream",
     "text": [
      "RMSE:\t\t1.104499\n",
      "MAE:\t\t0.787093\n",
      "rsquared:\t0.364472\n",
      "exp var:\t0.364652\n"
     ]
    }
   ],
   "source": [
    "# Show evaluation model result\n",
    "eval_rmse = rmse(test, predictions)\n",
    "eval_mae = mae(test, predictions)\n",
    "eval_rsquared = rsquared(test, predictions)\n",
    "eval_exp_var = exp_var(test, predictions)\n",
    "print(\"RMSE:\\t\\t%f\" % eval_rmse,\n",
    "      \"MAE:\\t\\t%f\" % eval_mae,\n",
    "      \"rsquared:\\t%f\" % eval_rsquared,\n",
    "      \"exp var:\\t%f\" % eval_exp_var, sep='\\n')"
   ]
  },
  {
   "cell_type": "markdown",
   "id": "124e9fe9",
   "metadata": {},
   "source": [
    "## 3.6 Generating Recommendations"
   ]
  },
  {
   "cell_type": "code",
   "execution_count": 16,
   "id": "d09a247c",
   "metadata": {},
   "outputs": [],
   "source": [
    "# Top 10 item predictions based on estimated ratings for the user\n",
    "def get_rec(user):\n",
    "    # Predict item ratings for user\n",
    "    get_item_rec = []\n",
    "    for item in train['itemID'].unique():\n",
    "        recom_svd = svd.predict(uid=user,iid=str(item))\n",
    "        iid = recom_svd.iid\n",
    "        est= recom_svd.est\n",
    "        hasil = [iid, est]\n",
    "        get_item_rec.append(hasil)\n",
    "\n",
    "    # Build dataframe from list and change data type to be simpler\n",
    "    result = pd.DataFrame(get_item_rec, columns=['itemID', 'prediction'])\n",
    "    result = result.sort_values(by='prediction',ascending=False).reset_index(drop=True)\n",
    "\n",
    "    # Remove duplicate prediction\n",
    "    for items in train[train.userID==user].itemID.unique():\n",
    "        result = result[result.itemID!=items]\n",
    "\n",
    "    # Filter top 10 predict rating\n",
    "    result = result.head(10).reset_index(drop=True)\n",
    "    return result"
   ]
  },
  {
   "cell_type": "code",
   "execution_count": 21,
   "id": "22199a13",
   "metadata": {},
   "outputs": [],
   "source": [
    "# Build overall item predictions for all users\n",
    "all_predictions=pd.DataFrame()\n",
    "for i in train.userID.unique():\n",
    "    pred=pd.concat([pd.DataFrame({'userID' :  np.repeat((i), 10)}),\n",
    "                  get_rec(i)], axis=1, join='outer')\n",
    "    all_predictions=pd.concat([all_predictions,pred])"
   ]
  },
  {
   "cell_type": "code",
   "execution_count": 36,
   "id": "ecfe6de3",
   "metadata": {
    "scrolled": true
   },
   "outputs": [
    {
     "data": {
      "text/html": [
       "<div>\n",
       "<style scoped>\n",
       "    .dataframe tbody tr th:only-of-type {\n",
       "        vertical-align: middle;\n",
       "    }\n",
       "\n",
       "    .dataframe tbody tr th {\n",
       "        vertical-align: top;\n",
       "    }\n",
       "\n",
       "    .dataframe thead th {\n",
       "        text-align: right;\n",
       "    }\n",
       "</style>\n",
       "<table border=\"1\" class=\"dataframe\">\n",
       "  <thead>\n",
       "    <tr style=\"text-align: right;\">\n",
       "      <th></th>\n",
       "      <th>userID</th>\n",
       "      <th>itemID</th>\n",
       "      <th>prediction</th>\n",
       "    </tr>\n",
       "  </thead>\n",
       "  <tbody>\n",
       "    <tr>\n",
       "      <th>0</th>\n",
       "      <td>9ed50d8deab882be4daad281cf37b602</td>\n",
       "      <td>367871ca2236ba02679d121c50db7265</td>\n",
       "      <td>5.0</td>\n",
       "    </tr>\n",
       "    <tr>\n",
       "      <th>1</th>\n",
       "      <td>9ed50d8deab882be4daad281cf37b602</td>\n",
       "      <td>96629e38790e42abf9939db3063a7c6d</td>\n",
       "      <td>5.0</td>\n",
       "    </tr>\n",
       "    <tr>\n",
       "      <th>2</th>\n",
       "      <td>9ed50d8deab882be4daad281cf37b602</td>\n",
       "      <td>7efc9c66bf68e3026c7846b0ec3e8682</td>\n",
       "      <td>5.0</td>\n",
       "    </tr>\n",
       "    <tr>\n",
       "      <th>3</th>\n",
       "      <td>9ed50d8deab882be4daad281cf37b602</td>\n",
       "      <td>d6b4d1a0d7b4224aa86e3ceff1d78217</td>\n",
       "      <td>5.0</td>\n",
       "    </tr>\n",
       "    <tr>\n",
       "      <th>4</th>\n",
       "      <td>9ed50d8deab882be4daad281cf37b602</td>\n",
       "      <td>b61d1388a17e3f547d2bc218df02335b</td>\n",
       "      <td>5.0</td>\n",
       "    </tr>\n",
       "    <tr>\n",
       "      <th>...</th>\n",
       "      <td>...</td>\n",
       "      <td>...</td>\n",
       "      <td>...</td>\n",
       "    </tr>\n",
       "    <tr>\n",
       "      <th>193295</th>\n",
       "      <td>738ab8c2a294ceb2544af384b8dec6c0</td>\n",
       "      <td>dabc8335b58a49ec2f5fcb06255cd733</td>\n",
       "      <td>5.0</td>\n",
       "    </tr>\n",
       "    <tr>\n",
       "      <th>193296</th>\n",
       "      <td>738ab8c2a294ceb2544af384b8dec6c0</td>\n",
       "      <td>a9fa0428bc677ac4d0a948fe2982ad1d</td>\n",
       "      <td>5.0</td>\n",
       "    </tr>\n",
       "    <tr>\n",
       "      <th>193297</th>\n",
       "      <td>738ab8c2a294ceb2544af384b8dec6c0</td>\n",
       "      <td>fdde5bfe43004cc06f12152870b951f4</td>\n",
       "      <td>5.0</td>\n",
       "    </tr>\n",
       "    <tr>\n",
       "      <th>193298</th>\n",
       "      <td>738ab8c2a294ceb2544af384b8dec6c0</td>\n",
       "      <td>1e5b160bf180293380b0d3e68bcc7ead</td>\n",
       "      <td>5.0</td>\n",
       "    </tr>\n",
       "    <tr>\n",
       "      <th>193299</th>\n",
       "      <td>738ab8c2a294ceb2544af384b8dec6c0</td>\n",
       "      <td>2190082493d586e315bfbb93762ab3e3</td>\n",
       "      <td>5.0</td>\n",
       "    </tr>\n",
       "  </tbody>\n",
       "</table>\n",
       "<p>793300 rows × 3 columns</p>\n",
       "</div>"
      ],
      "text/plain": [
       "                                  userID                            itemID  \\\n",
       "0       9ed50d8deab882be4daad281cf37b602  367871ca2236ba02679d121c50db7265   \n",
       "1       9ed50d8deab882be4daad281cf37b602  96629e38790e42abf9939db3063a7c6d   \n",
       "2       9ed50d8deab882be4daad281cf37b602  7efc9c66bf68e3026c7846b0ec3e8682   \n",
       "3       9ed50d8deab882be4daad281cf37b602  d6b4d1a0d7b4224aa86e3ceff1d78217   \n",
       "4       9ed50d8deab882be4daad281cf37b602  b61d1388a17e3f547d2bc218df02335b   \n",
       "...                                  ...                               ...   \n",
       "193295  738ab8c2a294ceb2544af384b8dec6c0  dabc8335b58a49ec2f5fcb06255cd733   \n",
       "193296  738ab8c2a294ceb2544af384b8dec6c0  a9fa0428bc677ac4d0a948fe2982ad1d   \n",
       "193297  738ab8c2a294ceb2544af384b8dec6c0  fdde5bfe43004cc06f12152870b951f4   \n",
       "193298  738ab8c2a294ceb2544af384b8dec6c0  1e5b160bf180293380b0d3e68bcc7ead   \n",
       "193299  738ab8c2a294ceb2544af384b8dec6c0  2190082493d586e315bfbb93762ab3e3   \n",
       "\n",
       "        prediction  \n",
       "0              5.0  \n",
       "1              5.0  \n",
       "2              5.0  \n",
       "3              5.0  \n",
       "4              5.0  \n",
       "...            ...  \n",
       "193295         5.0  \n",
       "193296         5.0  \n",
       "193297         5.0  \n",
       "193298         5.0  \n",
       "193299         5.0  \n",
       "\n",
       "[793300 rows x 3 columns]"
      ]
     },
     "execution_count": 36,
     "metadata": {},
     "output_type": "execute_result"
    }
   ],
   "source": [
    "# Show result prediction for all recommendation item for user \n",
    "all_predictions"
   ]
  },
  {
   "cell_type": "code",
   "execution_count": 28,
   "id": "3c6c422c",
   "metadata": {},
   "outputs": [],
   "source": [
    "# Export result all recommendation \n",
    "all_predictions.to_csv('results/all_predictions_rating.csv',index=False)"
   ]
  }
 ],
 "metadata": {
  "kernelspec": {
   "display_name": "Python 3 (ipykernel)",
   "language": "python",
   "name": "python3"
  },
  "language_info": {
   "codemirror_mode": {
    "name": "ipython",
    "version": 3
   },
   "file_extension": ".py",
   "mimetype": "text/x-python",
   "name": "python",
   "nbconvert_exporter": "python",
   "pygments_lexer": "ipython3",
   "version": "3.8.6"
  }
 },
 "nbformat": 4,
 "nbformat_minor": 5
}
